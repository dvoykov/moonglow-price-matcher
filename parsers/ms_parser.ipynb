{
 "cells": [
  {
   "cell_type": "code",
   "execution_count": 1,
   "metadata": {},
   "outputs": [],
   "source": [
    "from bs4 import BeautifulSoup\n",
    "import requests"
   ]
  },
  {
   "cell_type": "code",
   "execution_count": 2,
   "metadata": {},
   "outputs": [],
   "source": [
    "user_agent = \"Mozilla/5.0 (Windows NT 10.0; Win64; x64) AppleWebKit/537.36 (KHTML, like Gecko) Chrome/122.0.0.0 Safari/537.36\"\n",
    "headers = {\"User-Agent\": user_agent}"
   ]
  },
  {
   "cell_type": "code",
   "execution_count": 3,
   "metadata": {},
   "outputs": [
    {
     "name": "stdout",
     "output_type": "stream",
     "text": [
      "Brands: 56\n"
     ]
    }
   ],
   "source": [
    "response = requests.get(url=f\"https://myskin.md/brendy\", headers=headers)\n",
    "soup = BeautifulSoup(response.content, \"html.parser\")\n",
    "\n",
    "brand_urls = []\n",
    "for brand_tag in soup.find_all(\"a\", class_=\"brand-name\"):\n",
    "    brand_href = brand_tag.get(\"href\")\n",
    "    brand_urls.append(f\"https://myskin.md{brand_href}\")\n",
    "\n",
    "print(f\"Brands: {len(brand_urls)}\")"
   ]
  },
  {
   "cell_type": "code",
   "execution_count": 5,
   "metadata": {},
   "outputs": [
    {
     "name": "stdout",
     "output_type": "stream",
     "text": [
      "1778\n"
     ]
    }
   ],
   "source": [
    "products = []\n",
    "\n",
    "for brand_url in brand_urls:\n",
    "    response = requests.get(url=brand_url, headers=headers)\n",
    "    soup = BeautifulSoup(response.content, \"html.parser\")\n",
    "\n",
    "    total_pages = 1\n",
    "\n",
    "    paginator = soup.find(\"div\", class_=\"paginator_wrapper\")\n",
    "\n",
    "    if paginator:\n",
    "        total_pages = int(paginator.get(\"data-pages\"))\n",
    "\n",
    "    for page_id in range(total_pages):\n",
    "        response = requests.get(url=f\"{brand_url}?page={page_id}\", headers=headers)\n",
    "        soup = BeautifulSoup(response.content, \"html.parser\")\n",
    "\n",
    "        if response.status_code != 200:\n",
    "            if response.status_code == 404:\n",
    "                print(f\"Exit! Brand: {brand_url} Page #{page_id}: 404 error.\")\n",
    "                break\n",
    "            else:\n",
    "                print(\n",
    "                    f\"Brand: {brand_url} Page #{page_id} status_code: {response.status_code}\"\n",
    "                )\n",
    "                continue\n",
    "\n",
    "        for product in soup.find_all(\"div\", class_=\"product-block\"):\n",
    "            title = product.find(\"a\", class_=\"title\").text.strip()\n",
    "            href = product.find(\"a\", class_=\"title\")[\"href\"]\n",
    "            img_src = product.find(\"img\")[\"src\"]\n",
    "            curr_price = (\n",
    "                float(product.find(\"span\", class_=\"new-price\").text.strip(\" MDL\"))\n",
    "                if product.find(\"span\", class_=\"new-price\")\n",
    "                else None\n",
    "            )\n",
    "\n",
    "            old_price = (\n",
    "                float(product.find(\"span\", class_=\"old-price\").text.strip(\" MDL\"))\n",
    "                if product.find(\"span\", class_=\"old-price\")\n",
    "                else None\n",
    "            )\n",
    "\n",
    "            if not curr_price:\n",
    "                curr_price = (\n",
    "                    float(product.find(\"span\", class_=\"price\").text.strip(\" MDL\"))\n",
    "                    if product.find(\"span\", class_=\"price\")\n",
    "                    else None\n",
    "                )\n",
    "\n",
    "            products.append(\n",
    "                {\n",
    "                    \"brand\": brand_url,\n",
    "                    \"title\": title,\n",
    "                    \"link\": f\"https://myskin.md{href}\",\n",
    "                    \"image\": img_src,\n",
    "                    \"curr_price\": curr_price,\n",
    "                    \"old_price\": old_price,\n",
    "                }\n",
    "            )\n",
    "\n",
    "print(len(products))"
   ]
  }
 ],
 "metadata": {
  "kernelspec": {
   "display_name": "venv",
   "language": "python",
   "name": "python3"
  },
  "language_info": {
   "codemirror_mode": {
    "name": "ipython",
    "version": 3
   },
   "file_extension": ".py",
   "mimetype": "text/x-python",
   "name": "python",
   "nbconvert_exporter": "python",
   "pygments_lexer": "ipython3",
   "version": "3.10.12"
  }
 },
 "nbformat": 4,
 "nbformat_minor": 2
}
